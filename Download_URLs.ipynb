{
 "cells": [
  {
   "cell_type": "code",
   "execution_count": 13,
   "id": "0c7755af",
   "metadata": {},
   "outputs": [],
   "source": [
    "# Function that returns one year's fits.fz file list.  \n",
    "import pandas as pd\n",
    "import requests\n",
    "import os\n",
    "from bs4 import BeautifulSoup\n",
    "import numpy as np\n",
    "\n",
    "def getAllLinks (url):\n",
    "    \n",
    "    sub_url_list = []\n",
    "    # make a request to the webpage and get its content\n",
    "    response = requests.get(url)\n",
    "    soup = BeautifulSoup(response.content, \"html.parser\")\n",
    "\n",
    "    # find all the links on the webpage\n",
    "    links = soup.find_all(\"a\")\n",
    "    for link in links:\n",
    "        hrefText = link.text\n",
    "        \n",
    "        if (hrefText.endswith('/') and hrefText.startswith('20')) or hrefText.endswith('.fits.fz'):\n",
    "            sub_url = os.path.join(url, hrefText)  \n",
    "            sub_url_list.append(sub_url)\n",
    "        \n",
    "    return sub_url_list\n",
    "\n",
    "\n",
    "#It takes a long long long time to run (about minutes)\n",
    "def getFitsLinks (baseURL, year):\n",
    "    fits_urls = [] \n",
    "    sub_url_list = getAllLinks (baseURL) \n",
    "    \n",
    "    if len(sub_url_list) > 0:\n",
    "        \n",
    "        for sub_url in sub_url_list:\n",
    "            \n",
    "            if sub_url.endswith('/') and year in sub_url:\n",
    "                sub_sub_url_list = getAllLinks (sub_url) \n",
    "                if len(sub_sub_url_list) > 0:\n",
    "                    for sub_sub_link in sub_sub_url_list: \n",
    "                        fits_urls.extend(getAllLinks(sub_sub_link))\n",
    "    \n",
    "    return fits_urls\n",
    "\n",
    "   "
   ]
  },
  {
   "cell_type": "code",
   "execution_count": null,
   "id": "944d371e",
   "metadata": {},
   "outputs": [],
   "source": [
    "#pass year list in an array and save one year's fits.fz URL list in one csv file \n",
    "year_array = ['2020']\n",
    "for year in year_array:\n",
    "    fits_url_year_array = getFitsLinks('https://gong2.nso.edu/HA/haf/', year)\n",
    "    file_name = \"fits_\"+ year + \"_urls.csv\"\n",
    "    np.savetxt(file_name, fits_url_year_array, delimiter=\"\", newline = \"\\n\", fmt=\"%s\") "
   ]
  },
  {
   "cell_type": "code",
   "execution_count": null,
   "id": "12947139",
   "metadata": {},
   "outputs": [],
   "source": []
  },
  {
   "cell_type": "code",
   "execution_count": null,
   "id": "3bcf937f",
   "metadata": {},
   "outputs": [],
   "source": [
    "\n",
    "\n"
   ]
  },
  {
   "cell_type": "code",
   "execution_count": null,
   "id": "3edde4a8",
   "metadata": {},
   "outputs": [],
   "source": [
    " "
   ]
  },
  {
   "cell_type": "code",
   "execution_count": null,
   "id": "5e0a66ad",
   "metadata": {},
   "outputs": [],
   "source": [
    "\n",
    "\n"
   ]
  },
  {
   "cell_type": "code",
   "execution_count": null,
   "id": "9ebf6c20",
   "metadata": {},
   "outputs": [],
   "source": [
    " "
   ]
  },
  {
   "cell_type": "code",
   "execution_count": null,
   "id": "da062b9f",
   "metadata": {},
   "outputs": [],
   "source": []
  },
  {
   "cell_type": "code",
   "execution_count": null,
   "id": "418268a1",
   "metadata": {},
   "outputs": [],
   "source": [
    " "
   ]
  },
  {
   "cell_type": "code",
   "execution_count": null,
   "id": "6270d8fb",
   "metadata": {},
   "outputs": [],
   "source": []
  }
 ],
 "metadata": {
  "kernelspec": {
   "display_name": "Python 3 (ipykernel)",
   "language": "python",
   "name": "python3"
  },
  "language_info": {
   "codemirror_mode": {
    "name": "ipython",
    "version": 3
   },
   "file_extension": ".py",
   "mimetype": "text/x-python",
   "name": "python",
   "nbconvert_exporter": "python",
   "pygments_lexer": "ipython3",
   "version": "3.11.4"
  }
 },
 "nbformat": 4,
 "nbformat_minor": 5
}
