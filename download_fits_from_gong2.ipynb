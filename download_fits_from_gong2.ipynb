{
 "cells": [
  {
   "cell_type": "code",
   "execution_count": 1,
   "id": "14a34264",
   "metadata": {},
   "outputs": [],
   "source": [
    "# Function that returns one year's fits.fz file list.  \n",
    "from astropy.io import fits\n",
    "from astropy.utils.data import get_pkg_data_filename\n",
    "from datetime import datetime, timedelta\n",
    "from PIL import Image\n",
    "import matplotlib.pyplot as plt \n",
    "import pandas as pd \n",
    "from bs4 import BeautifulSoup\n",
    "import numpy as np \n",
    "import logging\n",
    "import requests\n",
    "import os\n",
    "import cv2 \n"
   ]
  },
  {
   "cell_type": "code",
   "execution_count": 2,
   "id": "00d225f4",
   "metadata": {},
   "outputs": [],
   "source": [
    "#Download one image from URL, you can plot it before save it\n",
    "def save_image_as_jpg (image_url):\n",
    "    \n",
    "    try:\n",
    "        original_image_data = fits.open(image_url)[1].data\n",
    "        im_resized = cv2.resize(original_image_data, (512, 512), interpolation=cv2.INTER_LINEAR)  \n",
    "        fits_file_name = image_url.rsplit('/', 1)[-1]\n",
    "        jpg_file_name = fits_file_name[0:12] + '.jpg'\n",
    "        plt.imsave(jpg_file_name, im_resized, cmap='gray')\n",
    "    except:\n",
    "        print('Error During Saving Image File: ', image_url)\n",
    "        #save to a log file??? \n",
    "        pass"
   ]
  },
  {
   "cell_type": "code",
   "execution_count": 3,
   "id": "06135dfd",
   "metadata": {},
   "outputs": [],
   "source": [
    "#Download only one image per date time. \n",
    "def download_image (date_time):\n",
    "    \n",
    "    year_string = str(date_time.year)\n",
    "    month_string = str(date_time.month).zfill(2)\n",
    "    day_string = str(date_time.day).zfill(2)\n",
    "    hour_string = str(date_time.hour).zfill(2)\n",
    "    \n",
    "    #minute is 00  \n",
    "    combined_string = year_string + month_string + day_string + hour_string + '00'\n",
    "    \n",
    "    day_url = 'https://gong2.nso.edu/HA/haf/' + year_string + month_string + '/' + year_string + month_string + day_string +'/'   \n",
    "    #check all URLs under base_url directory\n",
    "    response = requests.get(day_url)\n",
    "    soup = BeautifulSoup(response.content, \"html.parser\")\n",
    "\n",
    "    # find all the links on the webpage\n",
    "    links = soup.find_all(\"a\")\n",
    "    \n",
    "    #If there are links in the page, there are a lot of days the page is blank\n",
    "    for link in links:\n",
    "        \n",
    "        #link text on the page\n",
    "        hrefText = link.text\n",
    "         \n",
    "        #There are too many files per minute, save the first one on the page\n",
    "        #Should we care about the location? \n",
    "        if (hrefText.endswith('.fits.fz') and combined_string in hrefText):\n",
    "            image_url = os.path.join(day_url, hrefText) \n",
    "            \n",
    "            #download the image from the image_url\n",
    "            save_image_as_jpg (image_url) \n",
    "            \n",
    "            #print(image_url)\n",
    "            break; \n"
   ]
  },
  {
   "cell_type": "code",
   "execution_count": 4,
   "id": "72a4e3f0",
   "metadata": {},
   "outputs": [],
   "source": [
    "#Test download_image function\n",
    "test_dt = datetime(2018, 1, 1, 0, 0, 0)\n",
    "download_image (test_dt)"
   ]
  },
  {
   "cell_type": "code",
   "execution_count": 5,
   "id": "3e2b3141",
   "metadata": {},
   "outputs": [],
   "source": [
    "#Download one year at a time, download image took at 0, 6, 12 and 18 hours \n",
    "def download_fits_files (year, frenqucy_hours = 6):\n",
    "    \n",
    "    start_dt = datetime(year, 1, 1, 0, 0, 0)\n",
    "    date_time = datetime(year, 1, 1, 0, 0, 0)\n",
    "    \n",
    "    while (date_time.year == year): \n",
    "        \n",
    "        download_image(date_time)  \n",
    "        date_time = date_time + timedelta(hours=frenqucy_hours)\n",
    "        \n",
    "        #Unblock this line to test downloading one's images\n",
    "        if date_time.year > year or date_time.day == 2:\n",
    "            \n",
    "        #Unblock this line for production\n",
    "        #if date_time.year > year:\n",
    "            break;  \n",
    "     "
   ]
  },
  {
   "cell_type": "code",
   "execution_count": 6,
   "id": "1f594455",
   "metadata": {},
   "outputs": [],
   "source": [
    "#Download one year at a time\n",
    "#Try download one year first, if it's working, then use for loop\n",
    "#downloadFiles(2012) \n",
    "\n",
    "start_year = 2010\n",
    "total_years = 10 \n",
    "for y in (start_year + n for n in range(total_years)):\n",
    "    #print(y)\n",
    "    download_fits_files(y) "
   ]
  },
  {
   "cell_type": "code",
   "execution_count": null,
   "id": "4a0772cd",
   "metadata": {},
   "outputs": [],
   "source": [
    " "
   ]
  },
  {
   "cell_type": "code",
   "execution_count": null,
   "id": "b28a255f",
   "metadata": {},
   "outputs": [],
   "source": [
    " "
   ]
  },
  {
   "cell_type": "code",
   "execution_count": null,
   "id": "fdd6c8f8",
   "metadata": {},
   "outputs": [],
   "source": []
  }
 ],
 "metadata": {
  "kernelspec": {
   "display_name": "Python 3 (ipykernel)",
   "language": "python",
   "name": "python3"
  },
  "language_info": {
   "codemirror_mode": {
    "name": "ipython",
    "version": 3
   },
   "file_extension": ".py",
   "mimetype": "text/x-python",
   "name": "python",
   "nbconvert_exporter": "python",
   "pygments_lexer": "ipython3",
   "version": "3.11.4"
  }
 },
 "nbformat": 4,
 "nbformat_minor": 5
}
