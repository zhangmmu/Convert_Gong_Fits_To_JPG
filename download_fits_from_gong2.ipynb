{
 "cells": [
  {
   "cell_type": "code",
   "execution_count": 1,
   "id": "14a34264",
   "metadata": {},
   "outputs": [],
   "source": [
    "# Function that returns one year's fits.fz file list.  \n",
    "from astropy.io import fits\n",
    "from astropy.utils.data import get_pkg_data_filename\n",
    "from datetime import datetime, timedelta\n",
    "from PIL import Image\n",
    "import matplotlib.pyplot as plt \n",
    "import pandas as pd \n",
    "from bs4 import BeautifulSoup\n",
    "import numpy as np \n",
    "import calendar\n",
    "import logging\n",
    "import requests\n",
    "import os\n",
    "import cv2 \n"
   ]
  },
  {
   "cell_type": "code",
   "execution_count": 2,
   "id": "f1338e5d",
   "metadata": {},
   "outputs": [],
   "source": [
    "#Download one image from URL, you can plot it before save it\n",
    "def save_image_as_jpg (image_url, file_dir):\n",
    "    \n",
    "    try:\n",
    "        original_image_data = fits.open(image_url)[1].data\n",
    "        im_resized = cv2.resize(original_image_data, (512, 512), interpolation=cv2.INTER_LINEAR)  \n",
    "        fits_file_name = image_url.rsplit('/', 1)[-1]\n",
    "        jpg_file_name = file_dir +fits_file_name[0:12] + '.jpg'\n",
    "        plt.imsave(jpg_file_name, im_resized, cmap='gray')\n",
    "    except:\n",
    "        print('Error During Saving Image File: ', image_url)\n",
    "        #save to a log file??? \n",
    "        pass\n",
    "\n"
   ]
  },
  {
   "cell_type": "code",
   "execution_count": 3,
   "id": "00d225f4",
   "metadata": {},
   "outputs": [],
   "source": [
    "#Test save one file to my directory\n",
    "data_dir = \"/jzhang/NoteBookProjects/Projects/Convert_Gong_Fits_To_JPG/Data/\"\n",
    "save_image_as_jpg (\"https://gong2.nso.edu/HA/haf/201006/20100601/20100601000054Bh.fits.fz\", data_dir)"
   ]
  },
  {
   "cell_type": "code",
   "execution_count": 4,
   "id": "2021dbc7",
   "metadata": {},
   "outputs": [],
   "source": [
    "#Download only one image per date time. \n",
    "def download_one_day_images (year, month, day, image_dir, frenqucy_hours=6):\n",
    "    \n",
    "    date_time = datetime(year, month, day, 0, 0, 0)\n",
    "    year_string = str(year)\n",
    "    month_string = str(month).zfill(2)\n",
    "    day_string = str(day).zfill(2) \n",
    "    \n",
    "    #day combined string\n",
    "    day_combined_string = year_string + month_string + day_string\n",
    "     \n",
    "    day_url = 'https://gong2.nso.edu/HA/haf/' + year_string + month_string + '/' + day_combined_string +'/'\n",
    "    \n",
    "    #check all URLs under base_url directory\n",
    "    response = requests.get(day_url)\n",
    "    soup = BeautifulSoup(response.content, \"html.parser\")\n",
    "\n",
    "    # find all the links on the webpage\n",
    "    links = soup.find_all(\"a\") \n",
    "    \n",
    "    #Download one day's data at one time\n",
    "    while (date_time.day == day):\n",
    "            \n",
    "        combined_string = day_combined_string + str(date_time.hour).zfill(2) + '00'\n",
    "        #print(combined_string)\n",
    "        \n",
    "        for link in links:\n",
    "        \n",
    "            #link text on the page\n",
    "            hrefText = link.text\n",
    "            if (hrefText.endswith('.fits.fz') and combined_string in hrefText):\n",
    "                image_url = os.path.join(day_url, hrefText) \n",
    "            \n",
    "                #There are too many files per minute, save the first one on the page\n",
    "                #Should we care about the location? \n",
    "                #download the image from the image_url\n",
    "                save_image_as_jpg (image_url, image_dir)  \n",
    "                print(image_url) \n",
    "                break\n",
    "         \n",
    "        date_time = date_time + timedelta(hours=frenqucy_hours)\n",
    "            \n",
    "            "
   ]
  },
  {
   "cell_type": "code",
   "execution_count": 5,
   "id": "ba503266",
   "metadata": {},
   "outputs": [
    {
     "name": "stdout",
     "output_type": "stream",
     "text": [
      "https://gong2.nso.edu/HA/haf/201007/20100701/20100701000034Lh.fits.fz\n",
      "https://gong2.nso.edu/HA/haf/201007/20100701/20100701060034Lh.fits.fz\n",
      "https://gong2.nso.edu/HA/haf/201007/20100701/20100701120014Th.fits.fz\n",
      "https://gong2.nso.edu/HA/haf/201007/20100701/20100701180014Th.fits.fz\n"
     ]
    }
   ],
   "source": [
    "data_dir = \"/jzhang/NoteBookProjects/Projects/Convert_Gong_Fits_To_JPG/Data/\"\n",
    "download_one_day_images (2010, 7, 1, data_dir, 6)"
   ]
  },
  {
   "cell_type": "code",
   "execution_count": null,
   "id": "06135dfd",
   "metadata": {},
   "outputs": [
    {
     "name": "stdout",
     "output_type": "stream",
     "text": [
      "https://gong2.nso.edu/HA/haf/201006/20100601/20100601000054Bh.fits.fz\n"
     ]
    }
   ],
   "source": [
    "data_dir = \"/jzhang/NoteBookProjects/Projects/Convert_Gong_Fits_To_JPG/Data/\"\n",
    "start_year = 2010\n",
    "total_years = 1 \n",
    "for year in (start_year + n for n in range(total_years)):\n",
    "    for month in range(1, 13): \n",
    "        days = (calendar.monthcalendar(year, month))\n",
    "        for week in days:\n",
    "            for day in week:\n",
    "                if day > 0: \n",
    "                    download_one_day_images (year, month, day, data_dir, frenqucy_hours=6)"
   ]
  },
  {
   "cell_type": "code",
   "execution_count": null,
   "id": "72a4e3f0",
   "metadata": {},
   "outputs": [],
   "source": []
  },
  {
   "cell_type": "code",
   "execution_count": null,
   "id": "3e2b3141",
   "metadata": {},
   "outputs": [],
   "source": [
    " "
   ]
  },
  {
   "cell_type": "code",
   "execution_count": null,
   "id": "6a0f8d34",
   "metadata": {},
   "outputs": [],
   "source": [
    "\n",
    "         \n",
    "        \n",
    "        "
   ]
  },
  {
   "cell_type": "code",
   "execution_count": null,
   "id": "1f594455",
   "metadata": {},
   "outputs": [],
   "source": [
    " \n"
   ]
  },
  {
   "cell_type": "code",
   "execution_count": null,
   "id": "4a0772cd",
   "metadata": {},
   "outputs": [],
   "source": [
    " "
   ]
  },
  {
   "cell_type": "code",
   "execution_count": null,
   "id": "b28a255f",
   "metadata": {},
   "outputs": [],
   "source": [
    " "
   ]
  },
  {
   "cell_type": "code",
   "execution_count": null,
   "id": "fdd6c8f8",
   "metadata": {},
   "outputs": [],
   "source": []
  }
 ],
 "metadata": {
  "kernelspec": {
   "display_name": "Python 3 (ipykernel)",
   "language": "python",
   "name": "python3"
  },
  "language_info": {
   "codemirror_mode": {
    "name": "ipython",
    "version": 3
   },
   "file_extension": ".py",
   "mimetype": "text/x-python",
   "name": "python",
   "nbconvert_exporter": "python",
   "pygments_lexer": "ipython3",
   "version": "3.11.4"
  }
 },
 "nbformat": 4,
 "nbformat_minor": 5
}
